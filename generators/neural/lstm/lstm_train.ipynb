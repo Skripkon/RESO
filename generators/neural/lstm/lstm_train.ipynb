{
 "cells": [
  {
   "cell_type": "markdown",
   "metadata": {},
   "source": [
    "# Get the data"
   ]
  },
  {
   "cell_type": "code",
   "execution_count": 1,
   "metadata": {},
   "outputs": [],
   "source": [
    "import pickle\n",
    "import os\n",
    "import sys"
   ]
  },
  {
   "cell_type": "code",
   "execution_count": 2,
   "metadata": {},
   "outputs": [],
   "source": [
    "# Get the current working directory\n",
    "current_dir = os.getcwd()\n",
    "\n",
    "# Get the parent directory (get_notes.py is one level up)\n",
    "parent_dir = os.path.dirname(current_dir)\n",
    "\n",
    "# Add the parent directory to the system path\n",
    "sys.path.append(parent_dir)\n",
    "\n",
    "from NotesParser import NotesParser"
   ]
  },
  {
   "cell_type": "code",
   "execution_count": 3,
   "metadata": {},
   "outputs": [],
   "source": [
    "RESO_PATH = os.path.dirname(os.path.dirname(os.path.dirname(os.getcwd())))\n",
    "DATA_PATH = os.path.join(RESO_PATH, 'data', 'Chopin')"
   ]
  },
  {
   "cell_type": "code",
   "execution_count": 5,
   "metadata": {},
   "outputs": [
    {
     "name": "stdout",
     "output_type": "stream",
     "text": [
      "Parsing 102 files from Chopin\n",
      "1/2 Chopin, Frédéric, 2 Mazurkas, B.16, NtzP_wuR1iQ.mid\n",
      "2/2 Chopin, Frédéric, 3 Ecossaises, Op.72 No.3, z6h_Pj9qGLY.mid\n"
     ]
    }
   ],
   "source": [
    "parser = NotesParser()\n",
    "notes1 = parser.get_notes_from_files(path=DATA_PATH, concatFiles=True, maxFiles=2)"
   ]
  },
  {
   "cell_type": "code",
   "execution_count": 6,
   "metadata": {},
   "outputs": [
    {
     "name": "stdout",
     "output_type": "stream",
     "text": [
      "Parsing 1 file.\n",
      "1/1 Chopin, Frédéric, 2 Mazurkas, B.16, NtzP_wuR1iQ.mid\n"
     ]
    }
   ],
   "source": [
    "notes2 = parser.get_notes_from_files(path=os.path.join(DATA_PATH, \"Chopin, Frédéric, 2 Mazurkas, B.16, NtzP_wuR1iQ.mid\"), concatFiles=True, maxFiles=2)"
   ]
  },
  {
   "cell_type": "code",
   "execution_count": null,
   "metadata": {},
   "outputs": [],
   "source": [
    "notes = []\n",
    "RESO_PATH = os.path.dirname(os.path.dirname(os.path.dirname(os.getcwd())))\n",
    "DATA_PATH = os.path.join(RESO_PATH, 'data', 'Chopin')\n",
    "NOTES_PATH = os.path.join(DATA_PATH, 'notes')\n",
    "\n",
    "# If notes have already been dumped, load them, else run parser\n",
    "if os.path.exists(NOTES_PATH):\n",
    "    with open(NOTES_PATH, 'rb') as notes_file:\n",
    "        notes = pickle.load(notes_file)\n",
    "else:\n",
    "    parser = NotesParser(DATA_PATH)\n",
    "    notes = parser.get_notes_from_files()\n",
    "    \n",
    "    with open(NOTES_PATH, 'wb') as notes_file:\n",
    "        pickle.dump(notes, notes_file)"
   ]
  },
  {
   "cell_type": "markdown",
   "metadata": {},
   "source": [
    "# Set up the model"
   ]
  },
  {
   "cell_type": "code",
   "execution_count": null,
   "metadata": {},
   "outputs": [],
   "source": [
    "from keras.models import Sequential\n",
    "from keras.layers import LSTM, Dense, Dropout, Activation\n",
    "from keras.utils import to_categorical\n",
    "from keras.layers import BatchNormalization\n",
    "from keras.callbacks import ModelCheckpoint\n",
    "from music21 import converter, note, chord\n",
    "import numpy as np"
   ]
  },
  {
   "cell_type": "markdown",
   "metadata": {},
   "source": [
    "### Define hyperparameters"
   ]
  },
  {
   "cell_type": "code",
   "execution_count": null,
   "metadata": {},
   "outputs": [],
   "source": [
    "SEQUENCE_LENGTH = 100\n",
    "EPOCHS = 1  # Adjust as needed\n",
    "BATCH_SIZE = 128  # Adjust as needed"
   ]
  },
  {
   "cell_type": "markdown",
   "metadata": {},
   "source": [
    "### Prepare sequences for LSTM"
   ]
  },
  {
   "cell_type": "code",
   "execution_count": null,
   "metadata": {},
   "outputs": [],
   "source": [
    "# Create input sequences and corresponding output\n",
    "unique_notes = sorted(set(notes))\n",
    "note_to_int = dict((note, number) for number, note in enumerate(unique_notes))\n",
    "int_to_note = dict((number, note) for number, note in enumerate(unique_notes))\n",
    "\n",
    "input_sequences = []\n",
    "output_sequences = []\n",
    "\n",
    "for i in range(len(notes) - SEQUENCE_LENGTH):\n",
    "    sequence_in = notes[i:i + SEQUENCE_LENGTH]\n",
    "    sequence_out = notes[i + SEQUENCE_LENGTH]\n",
    "    input_sequences.append([note_to_int[char] for char in sequence_in])\n",
    "    output_sequences.append(note_to_int[sequence_out])"
   ]
  },
  {
   "cell_type": "code",
   "execution_count": null,
   "metadata": {},
   "outputs": [],
   "source": [
    "print(len(unique_notes))"
   ]
  },
  {
   "cell_type": "markdown",
   "metadata": {},
   "source": [
    "### Configure the model"
   ]
  },
  {
   "cell_type": "code",
   "execution_count": null,
   "metadata": {},
   "outputs": [],
   "source": [
    "# Reshape input sequences\n",
    "x = np.reshape(input_sequences, (len(input_sequences), SEQUENCE_LENGTH, 1))\n",
    "x = x / float(len(unique_notes))\n",
    "\n",
    "# One-hot encode output sequences\n",
    "y = to_categorical(output_sequences)\n",
    "\n",
    "model = Sequential()\n",
    "model.add(LSTM(512, input_shape=(x.shape[1], x.shape[2]), return_sequences=True))\n",
    "model.add(LSTM(512, return_sequences=True))\n",
    "model.add(LSTM(512))\n",
    "model.add(Dense(256))\n",
    "model.add(Activation('relu'))\n",
    "model.add(BatchNormalization())\n",
    "model.add(Dropout(0.3))\n",
    "model.add(Dense(y.shape[1], activation='softmax'))\n",
    "\n",
    "model.compile(loss='categorical_crossentropy', optimizer='rmsprop')\n",
    "\n",
    "check_point_path = \"model/cp_{epoch:04d}.keras\"\n",
    "check_point = ModelCheckpoint(filepath=check_point_path, save_best_only=True, monitor='loss', save_freq='epoch')\n"
   ]
  },
  {
   "cell_type": "markdown",
   "metadata": {},
   "source": [
    "### Train the model"
   ]
  },
  {
   "cell_type": "code",
   "execution_count": null,
   "metadata": {},
   "outputs": [],
   "source": [
    "model.fit(x, y, epochs=EPOCHS, batch_size=BATCH_SIZE, callbacks=[check_point])"
   ]
  },
  {
   "cell_type": "code",
   "execution_count": null,
   "metadata": {},
   "outputs": [],
   "source": [
    "import importlib\n",
    "import generate\n",
    "importlib.reload(generate)\n",
    "generate.generate(model, input_sequences, int_to_note, unique_notes, \"out.mid\", 200)"
   ]
  }
 ],
 "metadata": {
  "kernelspec": {
   "display_name": "base",
   "language": "python",
   "name": "python3"
  },
  "language_info": {
   "codemirror_mode": {
    "name": "ipython",
    "version": 3
   },
   "file_extension": ".py",
   "mimetype": "text/x-python",
   "name": "python",
   "nbconvert_exporter": "python",
   "pygments_lexer": "ipython3",
   "version": "3.11.6"
  }
 },
 "nbformat": 4,
 "nbformat_minor": 2
}
