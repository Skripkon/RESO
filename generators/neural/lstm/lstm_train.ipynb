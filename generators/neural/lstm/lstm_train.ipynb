{
 "cells": [
  {
   "cell_type": "markdown",
   "metadata": {},
   "source": [
    "# Get the data"
   ]
  },
  {
   "cell_type": "code",
   "execution_count": 3,
   "metadata": {},
   "outputs": [],
   "source": [
    "from get_notes import NotesParser\n",
    "import pickle\n",
    "import os"
   ]
  },
  {
   "cell_type": "code",
   "execution_count": 4,
   "metadata": {},
   "outputs": [
    {
     "name": "stdout",
     "output_type": "stream",
     "text": [
      "Parsing 111 files from Chopin\n",
      "1/111 Chopin, Frédéric, Nocturnes, Op.55, e3yrEEM5j_s.mid\n",
      "2/111 Chopin, Frédéric, Variations in A major, B.37, asJtkFFWHzs.mid\n",
      "3/111 Chopin, Frédéric, Waltzes, Op.64, hOcryGEw1NY.mid\n",
      "4/111 Chopin, Frédéric, Variations brillantes, Op.12, m7Sxe1y0U7M.mid\n",
      "5/111 Chopin, Frédéric, Casta Diva, 4aojKDKm1BE.mid\n",
      "6/111 Chopin, Frédéric, Bolero, Op.19, 8XQXE7SeYkc.mid\n",
      "7/111 Chopin, Frédéric, Ballade No.3, Op.47, BkPLDoZXlHQ.mid\n",
      "8/111 Lysenko, Mykola, Impromptu in the Style of Chopin, Op.38, FRbprtd1WfU.mid\n",
      "9/111 Chopin, Frédéric, Mazurkas, Op.68, -2wScu6HtcY.mid\n",
      "10/111 Chopin, Frédéric, Piano Sonata No.2, Op.35, hZY5DBmgC_A.mid\n",
      "11/111 Chopin, Frédéric, Mazurka in C major, B.82, lhPMZyfdQbQ.mid\n",
      "12/111 Chopin, Frédéric, Largo in E-flat major, B.109, ZuayOEDAKKc.mid\n",
      "13/111 Chopin, Frédéric, Waltz in A-flat major, Op.42, 4b9vilZx4dc.mid\n",
      "14/111 Chopin, Frédéric, Mazurkas, Op.63, 8wa4w6lfrpw.mid\n",
      "15/111 Chopin, Frédéric, Mazurkas, Op.30, H3s-NCcC8sM.mid\n",
      "16/111 Chopin, Frédéric, Hexaméron Variation No.6, upfyIUP6U9Y.mid\n",
      "17/111 Chopin, Frédéric, Valse mélancolique in F-sharp minor, A1_7, endJjZozRtM.mid\n",
      "18/111 Chopin, Frédéric, Mazurka in A minor, B.140, dtr2H4E3SRk.mid\n",
      "19/111 Chopin, Frédéric, Mazurkas, Op.6, _6k8CUmtRE8.mid\n",
      "20/111 Chopin, Frédéric, Variations sur un air national allemand, B.14, wg_2Fz1gB1s.mid\n",
      "21/111 Chopin, Frédéric, Polonaise in A-flat major, B.5, jBFafivFoTQ.mid\n",
      "22/111 Chopin, Frédéric, Mazurka in F-sharp major, fxp3IQ6pxYs.mid\n",
      "23/111 Chopin, Frédéric, Mazurka in D major, B.71, Kmv893EHqPI.mid\n",
      "24/111 Chopin, Frédéric, Mazurka in A-flat major, B.85, yEgW05E_mUk.mid\n",
      "25/111 Chopin, Frédéric, Marche funèbre, Op.72 No.2, e8umUi0dyPw.mid\n",
      "26/111 Chopin, Frédéric, Waltz in E-flat major, B.133, XXkdfIjzbxM.mid\n",
      "27/111 Chopin, Frédéric, 3 Ecossaises, Op.72 No.3, z6h_Pj9qGLY.mid\n",
      "28/111 Chopin, Frédéric, Mazurka in B-flat major 'Wołowska', B.73, eEnelX249O8.mid\n",
      "29/111 Chopin, Frédéric, Mazurkas, Op.59, eh5c5PfNKgg.mid\n",
      "30/111 Chopin, Frédéric, Nocturne oubliée, l158eDg2VBk.mid\n",
      "31/111 Chopin, Frédéric, Polonaises, Op.40, hbnunexhlXM.mid\n",
      "32/111 Chopin, Frédéric, Cantabile in B-flat major, B.84, 2MErGZpgErY.mid\n",
      "33/111 Chopin, Frédéric, Bourrée No.1, B.160b1, 6c9mOM2X9PM.mid\n",
      "34/111 Chopin, Frédéric, Mazurkas, Op.17, yU6jtMCYCQs.mid\n",
      "35/111 Chopin, Frédéric, Andantino, B.117, 9PMZC5HtB1E.mid\n",
      "36/111 Chopin, Frédéric, Polonaises, Op.26, Pp4v42suFQg.mid\n",
      "37/111 Chopin, Frédéric, 2 Mazurkas, B.16, NtzP_wuR1iQ.mid\n",
      "38/111 Chopin, Frédéric, Andante spianato et Grande polonaise brillante, Op.22, jJ130s7BiSM.mid\n",
      "39/111 Wagner, Carl, Souvenir de Chopin, flvF9x4rLUo.mid\n",
      "40/111 Chopin, Frédéric, Ballade No.4, Op.52, 7tmQSWuYwrI.mid\n",
      "41/111 Chopin, Frédéric, Nocturnes, Op.9, 9E6b3swbnWg.mid\n",
      "42/111 Chopin, Frédéric, Études, Op.25, gLZ4WJiDldU.mid\n",
      "43/111 Chopin, Frédéric, Barcarolle, Op.60, UU21X-wmD0Q.mid\n",
      "44/111 Chopin, Frédéric, Impromptu No.2, Op.36, TDGHR4lj3yc.mid\n",
      "45/111 Chopin, Frédéric, Canon in F minor, B.129a, 8x5PeQ9jljc.mid\n",
      "46/111 Chopin, Frédéric, Bourrée No.2, B.160b2, 1IZLSFpe1II.mid\n",
      "47/111 Chopin, Frédéric, Nocturne in E minor, Op.72 No.1, h5_V-d8HjhU.mid\n",
      "48/111 Chopin, Frédéric, Mazurkas, Op.41, J9ivOk3aDQI.mid\n",
      "49/111 Chopin, Frédéric, 3 Nouvelles études, B.130, cr4e-IfqfkM.mid\n",
      "50/111 Chopin, Frédéric, Rondo à la mazur, Op.5, KpHBVR-s7EM.mid\n",
      "51/111 Chopin, Frédéric, Nocturne in C minor, B.108, RAIRdtdVfWA.mid\n",
      "52/111 Chopin, Frédéric, Piano Sonata No.1, Op.4, n-XhROuRDBY.mid\n",
      "53/111 Chopin, Frédéric, Ballade No.1, Op.23, Ce8p0VcTbuA.mid\n",
      "54/111 Chopin, Frédéric, Waltz in E-flat major, B.46, 2JkFOhuhAio.mid\n",
      "55/111 Heller, Stephen, 21 Etudes Speciales after Chopin, Op.154, AyAt2NkPjvY.mid\n",
      "56/111 Chopin, Frédéric, Waltzes, Op.70, oCjeyj0e2SY.mid\n",
      "57/111 Chopin, Frédéric, Nocturnes, Op.15, lin5uA0LSaM.mid\n",
      "58/111 Chopin, Frédéric, Rondo in C major, Op.73, sw2R6kyy8M4.mid\n",
      "59/111 Chopin, Frédéric, Polonaise in F-sharp minor, Op.44, ehm_kDU563Q.mid\n",
      "60/111 Chopin, Frédéric, Impromptu No.1, Op.29, baZGdj0xLYg.mid\n",
      "61/111 Chopin, Frédéric, Waltz in A minor, B.150, algM0c_u99k.mid\n",
      "62/111 Chopin, Frédéric, Piano Sonata No.3, Op.58, xGJxmCOPFVM.mid\n",
      "63/111 Chopin, Frédéric, Nocturne in C-sharp minor, B.49, 0TzE2ivdbBA.mid\n",
      "64/111 Villa-Lobos, Heitor, Hommage à Chopin, W474, rYLExa67dbc.mid\n",
      "65/111 Chopin, Frédéric, Polonaise in G minor, B.1, 28ASfk_A0ng.mid\n",
      "66/111 Chopin, Frédéric, Berceuse, Op.57, FZtBwlxL0Aw.mid\n",
      "67/111 Chopin, Frédéric, Scherzo No.3, Op.39, rjmUbZ3Aumw.mid\n",
      "68/111 Chopin, Frédéric, Moderato in E major, B.151, UI_uXFCHUVw.mid\n",
      "69/111 Chopin, Frédéric, Fantaisie-impromptu, Op.66, Gus4dnQuiGk.mid\n",
      "70/111 Chopin, Frédéric, Nocturnes, Op.27, WJ8RVjm49hE.mid\n",
      "71/111 Chopin, Frédéric, Ballade No.2, Op.38, NZfNAVQ6H4o.mid\n",
      "72/111 Chopin, Frédéric, Nocturnes, Op.62, 1FeogxNAJWY.mid\n",
      "73/111 Chopin, Frédéric, Polonaise-fantaisie, Op.61, 177qJoCI9Zw.mid\n",
      "74/111 Chopin, Frédéric, Allegretto in F-sharp major, pO07vvy6sbk.mid\n",
      "75/111 Chopin, Frédéric, Nocturnes, Op.32, BhIP4hDBp-E.mid\n",
      "76/111 Chopin, Frédéric, Allegro de concert, Op.46, SU73S7WCAZM.mid\n",
      "77/111 Chopin, Frédéric, Preludes, Op.28, SqXYIteAfNs.mid\n",
      "78/111 Chopin, Frédéric, Mazurkas, Op.56, tDJNeXJGj3Q.mid\n",
      "79/111 Wille, Rolf-Peter, 2 Studies on Chopin's Etude, Op.10 No.2, s8IBX8vACHs.mid\n",
      "80/111 Drozdov, Vladimir, Reflections at Chopin's Urn, 8jdXaMvrtLY.mid\n",
      "81/111 Kalkbrenner, Friedrich Wilhelm, Variations brillantes on a Mazurka of Chopin, Op.120, 6pcWfUysK0Y.mid\n",
      "82/111 Chopin, Frédéric, Variations sur un air national de Moore, B.12a, IX9pYAYHjBw.mid\n",
      "83/111 Chopin, Frédéric, Prelude in C-sharp minor, Op.45, uCpi9COuaUA.mid\n",
      "84/111 Chopin, Frédéric, Scherzo No.1, Op.20, 38VShqkukWY.mid\n",
      "85/111 Chopin, Frédéric, Polonaise in G-sharp minor, B.6, rltQFPW9Rmk.mid\n",
      "86/111 Chopin, Frédéric, Polonaise in G-flat major, B.36, 2SgbxnqOP3A.mid\n",
      "87/111 Michałowski, Aleksander, Paraphrase on Chopin's 'Minute Waltz', pD_ZuEbNLvw.mid\n",
      "88/111 Chopin, Frédéric, Études, Op.10, g0hoN6_HDVU.mid\n",
      "89/111 Chopin, Frédéric, Waltz in E major, B.44, ubTLiVNmeII.mid\n",
      "90/111 Chopin, Frédéric, Scherzo No.2, Op.31, z_MwPdr7WXQ.mid\n",
      "91/111 Chopin, Frédéric, Rondo in E-flat major, Op.16, CxSEdBKcQYE.mid\n",
      "92/111 Chopin, Frédéric, Mazurkas, Op.24, flIQ02Nlkpk.mid\n",
      "93/111 Chopin, Frédéric, Mazurka in D major, B.31, Ho3ik--3T9c.mid\n",
      "94/111 Chopin, Frédéric, Grande valse brillante, Op.18, LG-E4PVGQSI.mid\n",
      "95/111 Chopin, Frédéric, Mazurkas, Op.50, h0BjbU9upFI.mid\n",
      "96/111 Chopin, Frédéric, Prelude in A-flat major, B.86, CNcpbfNPj1s.mid\n",
      "97/111 Chopin, Frédéric, Mazurkas, Op.7, FsFDT24JElU.mid\n",
      "98/111 Chopin, Frédéric, Polonaises, Op.71, k1VOCu-VAQY.mid\n",
      "99/111 Chopin, Frédéric, Mazurkas, Op.33, irNgKtwPIF0.mid\n",
      "100/111 Chopin, Frédéric, Nocturnes, Op.37, Dhp_wYUDgc0.mid\n",
      "101/111 Schauerte, Uli, Canone minore alla Chopin su 'Happy Birthday to You', p37Ld0YK0DY.mid\n",
      "102/111 Chopin, Frédéric, Nocturnes, Op.48, -7mntyrW3HU.mid\n",
      "103/111 Chopin, Frédéric, Mazurka in A minor, B.134, zpfNaQ-IEWA.mid\n",
      "104/111 Chopin, Frédéric, Polonaise in B-flat minor, B.13, YmtsUp8HFZg.mid\n",
      "105/111 Chopin, Frédéric, Fugue in A minor, B.144, W0X6w-XSG-M.mid\n",
      "106/111 Chopin, Frédéric, Fantaisie, Op.49, A-GjbRtlweg.mid\n",
      "107/111 Chopin, Frédéric, Scherzo No.4, Op.54, 9CNYX7OkceA.mid\n",
      "108/111 Chopin, Frédéric, Waltz in E minor, B.56, ETcsMMq9LYE.mid\n",
      "109/111 Chopin, Frédéric, Waltz in A-flat major, B.21, w_vk12F4hvs.mid\n",
      "110/111 Chopin, Frédéric, Mazurkas, Op.67, _60cemeCu6E.mid\n",
      "111/111 Chopin, Frédéric, Allegretto and Mazurka, bFkqrrBUFA4.mid\n"
     ]
    }
   ],
   "source": [
    "DATA_PATH = '../../data/Chopin'\n",
    "notes = []\n",
    "notes_file_path = os.path.join(DATA_PATH, 'notes')\n",
    "\n",
    "# If notes have already been dumped, load them, else run parser\n",
    "if os.path.exists(notes_file_path):\n",
    "    with open(notes_file_path, 'rb') as notes_file:\n",
    "        notes = pickle.load(notes_file)\n",
    "else:\n",
    "    parser = NotesParser(DATA_PATH)\n",
    "    notes = parser.get_notes_from_files()\n",
    "    \n",
    "    with open(notes_file_path, 'wb') as notes_file:\n",
    "        pickle.dump(notes, notes_file)"
   ]
  },
  {
   "cell_type": "markdown",
   "metadata": {},
   "source": [
    "# Set up the model"
   ]
  },
  {
   "cell_type": "code",
   "execution_count": null,
   "metadata": {},
   "outputs": [],
   "source": [
    "from keras.models import Sequential\n",
    "from keras.layers import LSTM, Dense, Dropout, Activation\n",
    "from keras.utils import to_categorical\n",
    "from keras.layers import BatchNormalization\n",
    "from keras.callbacks import ModelCheckpoint\n",
    "from music21 import converter, note, chord\n",
    "import numpy as np"
   ]
  },
  {
   "cell_type": "markdown",
   "metadata": {},
   "source": [
    "### Define hyperparameters"
   ]
  },
  {
   "cell_type": "code",
   "execution_count": null,
   "metadata": {},
   "outputs": [],
   "source": [
    "SEQUENCE_LENGTH = 100\n",
    "EPOCHS = 1  # Adjust as needed\n",
    "BATCH_SIZE = 128  # Adjust as needed"
   ]
  },
  {
   "cell_type": "markdown",
   "metadata": {},
   "source": [
    "### Prepare sequences for LSTM"
   ]
  },
  {
   "cell_type": "code",
   "execution_count": null,
   "metadata": {},
   "outputs": [],
   "source": [
    "# Create input sequences and corresponding output\n",
    "unique_notes = sorted(set(notes))\n",
    "note_to_int = dict((note, number) for number, note in enumerate(unique_notes))\n",
    "int_to_note = dict((number, note) for number, note in enumerate(unique_notes))\n",
    "\n",
    "input_sequences = []\n",
    "output_sequences = []\n",
    "\n",
    "for i in range(len(notes) - SEQUENCE_LENGTH):\n",
    "    sequence_in = notes[i:i + SEQUENCE_LENGTH]\n",
    "    sequence_out = notes[i + SEQUENCE_LENGTH]\n",
    "    input_sequences.append([note_to_int[char] for char in sequence_in])\n",
    "    output_sequences.append(note_to_int[sequence_out])"
   ]
  },
  {
   "cell_type": "code",
   "execution_count": null,
   "metadata": {},
   "outputs": [],
   "source": [
    "print(len(unique_notes))"
   ]
  },
  {
   "cell_type": "markdown",
   "metadata": {},
   "source": [
    "### Configure the model"
   ]
  },
  {
   "cell_type": "code",
   "execution_count": null,
   "metadata": {},
   "outputs": [],
   "source": [
    "# Reshape input sequences\n",
    "x = np.reshape(input_sequences, (len(input_sequences), SEQUENCE_LENGTH, 1))\n",
    "x = x / float(len(unique_notes))\n",
    "\n",
    "# One-hot encode output sequences\n",
    "y = to_categorical(output_sequences)\n",
    "\n",
    "model = Sequential()\n",
    "model.add(LSTM(512, input_shape=(x.shape[1], x.shape[2]), return_sequences=True))\n",
    "model.add(LSTM(512, return_sequences=True))\n",
    "model.add(LSTM(512))\n",
    "model.add(Dense(256))\n",
    "model.add(Activation('relu'))\n",
    "model.add(BatchNormalization())\n",
    "model.add(Dropout(0.3))\n",
    "model.add(Dense(y.shape[1], activation='softmax'))\n",
    "\n",
    "model.compile(loss='categorical_crossentropy', optimizer='rmsprop')\n",
    "\n",
    "check_point_path = \"model/cp_{epoch:04d}.keras\"\n",
    "check_point = ModelCheckpoint(filepath=check_point_path, save_best_only=True, monitor='loss', save_freq='epoch')\n"
   ]
  },
  {
   "cell_type": "markdown",
   "metadata": {},
   "source": [
    "### Train the model"
   ]
  },
  {
   "cell_type": "code",
   "execution_count": null,
   "metadata": {},
   "outputs": [],
   "source": [
    "model.fit(x, y, epochs=EPOCHS, batch_size=BATCH_SIZE, callbacks=[check_point])"
   ]
  },
  {
   "cell_type": "code",
   "execution_count": null,
   "metadata": {},
   "outputs": [],
   "source": [
    "import importlib\n",
    "import generate\n",
    "importlib.reload(generate)\n",
    "generate.generate(model, input_sequences, int_to_note, unique_notes, \"out.mid\", 200)"
   ]
  }
 ],
 "metadata": {
  "kernelspec": {
   "display_name": "base",
   "language": "python",
   "name": "python3"
  },
  "language_info": {
   "codemirror_mode": {
    "name": "ipython",
    "version": 3
   },
   "file_extension": ".py",
   "mimetype": "text/x-python",
   "name": "python",
   "nbconvert_exporter": "python",
   "pygments_lexer": "ipython3",
   "version": "3.11.6"
  }
 },
 "nbformat": 4,
 "nbformat_minor": 2
}
